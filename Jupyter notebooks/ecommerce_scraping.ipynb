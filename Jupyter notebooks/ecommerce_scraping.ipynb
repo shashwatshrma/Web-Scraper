{
 "cells": [
  {
   "cell_type": "code",
   "execution_count": 2,
   "metadata": {},
   "outputs": [],
   "source": [
    "import scraping_utils as sc\n",
    "from bs4 import BeautifulSoup\n",
    "import pandas as pd"
   ]
  },
  {
   "cell_type": "code",
   "execution_count": 3,
   "metadata": {},
   "outputs": [],
   "source": [
    "content = sc.get_content(\"http://books.toscrape.com/index.html\") #scrape the home to get the list of the genres and their links\n",
    "soup = BeautifulSoup(content, \"html.parser\")"
   ]
  },
  {
   "cell_type": "code",
   "execution_count": 5,
   "metadata": {},
   "outputs": [],
   "source": [
    "genres = soup.find(\"ul\", {\"class\":\"nav nav-list\"}).find(\"li\").find(\"ul\").find_all(\"a\")\n",
    "genres_labels = [] #stores the names of the genres\n",
    "genres_links = [] #stores the links of the different genres\n",
    "for genre in genres:\n",
    "    genres_labels.append(genre.text.replace(\"\\n\",\"\").strip().lower())\n",
    "    genres_links.append(genre[\"href\"])"
   ]
  },
  {
   "cell_type": "code",
   "execution_count": 6,
   "metadata": {},
   "outputs": [],
   "source": [
    "selected_genre=input(\"Enter Genre: \").lower()\n",
    "if selected_genre == \"All\" or selected_genre == \"Books\":\n",
    "    genre_url=\"https://books.toscrape.com/catalogue/category/books_1/index.html\"\n",
    "else:\n",
    "    genre_url=\"https://books.toscrape.com/\"+genres_links[genres_labels.index(selected_genre)]\n",
    "content = sc.get_content(genre_url)\n",
    "soup = BeautifulSoup(content, \"html.parser\")"
   ]
  },
  {
   "cell_type": "code",
   "execution_count": 7,
   "metadata": {},
   "outputs": [],
   "source": [
    "products = soup.find_all(\"article\", {\"class\":\"product_pod\"})\n",
    "l=[]\n",
    "for product in products:\n",
    "    d={}\n",
    "    d[\"Name\"]=product.find(\"h3\").find(\"a\")[\"title\"]\n",
    "    d[\"Price\"]=product.find(\"p\", {\"class\":\"price_color\"}).text\n",
    "    d[\"Avalibility\"]=product.find(\"p\", {\"class\":\"instock availability\"}).text.replace(\"\\n\",\"\").strip()\n",
    "    if product.find(\"p\", {\"class\":\"star-rating One\"}) != None:\n",
    "        d[\"Rating\"]=1\n",
    "    elif product.find(\"p\", {\"class\":\"star-rating Two\"}) != None:\n",
    "        d[\"Rating\"]=2\n",
    "    elif product.find(\"p\", {\"class\":\"star-rating Three\"}) != None:\n",
    "        d[\"Rating\"]=3\n",
    "    elif product.find(\"p\", {\"class\":\"star-rating Four\"}) != None:\n",
    "        d[\"Rating\"]=4\n",
    "    else:\n",
    "        d[\"Rating\"]=5\n",
    "    l.append(d)"
   ]
  },
  {
   "cell_type": "code",
   "execution_count": 8,
   "metadata": {},
   "outputs": [],
   "source": [
    "res_count = soup.find(\"form\", {\"class\":\"form-horizontal\"}).find_all(\"strong\")\n",
    "if len(res_count) > 1:\n",
    "    page_count=2\n",
    "    base_url=genre_url[0:-10]+\"page-\"\n",
    "    while True:\n",
    "        content=sc.get_content(base_url,str(page_count),\".html\")\n",
    "        soup = BeautifulSoup(content, \"html.parser\")\n",
    "        products = soup.find_all(\"article\", {\"class\":\"product_pod\"})\n",
    "        for product in products:\n",
    "            d={}\n",
    "            d[\"Name\"]=product.find(\"h3\").find(\"a\")[\"title\"]\n",
    "            d[\"Price\"]=product.find(\"p\", \"price_color\").text\n",
    "            d[\"Avalibility\"]=product.find(\"p\", \"instock availability\").text.replace(\"\\n\",\"\").strip()\n",
    "            if product.find(\"p\", {\"class\":\"star-rating One\"}) != None:\n",
    "                d[\"Rating\"]=1\n",
    "            elif product.find(\"p\", {\"class\":\"star-rating Two\"}) != None:\n",
    "                d[\"Rating\"]=2\n",
    "            elif product.find(\"p\", {\"class\":\"star-rating Three\"}) != None:\n",
    "                d[\"Rating\"]=3\n",
    "            elif product.find(\"p\", {\"class\":\"star-rating Four\"}) != None:\n",
    "                d[\"Rating\"]=4\n",
    "            else:\n",
    "                d[\"Rating\"]=5\n",
    "            l.append(d)\n",
    "        res_count = soup.find(\"form\", {\"class\":\"form-horizontal\"}).find_all(\"strong\")\n",
    "        page_count += 1\n",
    "        if int(res_count[0].text) == int(res_count[2].text):\n",
    "            break"
   ]
  },
  {
   "cell_type": "code",
   "execution_count": 9,
   "metadata": {},
   "outputs": [],
   "source": [
    "df=pd.DataFrame(l)\n",
    "sc.save_data_csv(df, \"scraped_data\", selected_genre)"
   ]
  }
 ],
 "metadata": {
  "kernelspec": {
   "display_name": "Python 3",
   "language": "python",
   "name": "python3"
  },
  "language_info": {
   "codemirror_mode": {
    "name": "ipython",
    "version": 3
   },
   "file_extension": ".py",
   "mimetype": "text/x-python",
   "name": "python",
   "nbconvert_exporter": "python",
   "pygments_lexer": "ipython3",
   "version": "3.11.2"
  },
  "orig_nbformat": 4
 },
 "nbformat": 4,
 "nbformat_minor": 2
}
