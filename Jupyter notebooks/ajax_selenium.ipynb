{
 "cells": [
  {
   "cell_type": "code",
   "execution_count": 1,
   "metadata": {},
   "outputs": [],
   "source": [
    "from selenium import webdriver\n",
    "from selenium.webdriver.common.by import By\n",
    "import scraping_utils as sc\n",
    "import pandas as pd\n",
    "import time\n",
    "import random"
   ]
  },
  {
   "cell_type": "code",
   "execution_count": 2,
   "metadata": {},
   "outputs": [],
   "source": [
    "driver=webdriver.Chrome()\n",
    "driver.get(\"https://www.scrapethissite.com/pages/ajax-javascript/\")\n",
    "driver.implicitly_wait(5)"
   ]
  },
  {
   "cell_type": "code",
   "execution_count": 3,
   "metadata": {},
   "outputs": [],
   "source": [
    "years=driver.find_elements(By.CLASS_NAME,\"year-link\")\n",
    "l=[]\n",
    "for year in years:\n",
    "    year.click()\n",
    "    time.sleep(random.randint(3,7))\n",
    "    films=driver.find_elements(By.CLASS_NAME, \"film\")\n",
    "    for film in films:\n",
    "        d={}\n",
    "        try:\n",
    "            d[\"Year\"]=year.text\n",
    "            d[\"Title\"]=film.find_element(By.CLASS_NAME, \"film-title\").text\n",
    "            d[\"Nominations\"]=film.find_element(By.CLASS_NAME, \"film-nominations\").text\n",
    "            d[\"Awards\"]=film.find_element(By.CLASS_NAME, \"film-awards\").text\n",
    "        except:\n",
    "            pass\n",
    "        try:\n",
    "            film.find_element(By.TAG_NAME, \"i\")\n",
    "            d[\"Best Picture\"]=\"Won\"\n",
    "        except:\n",
    "            d[\"Best Picture\"]=\"\"\n",
    "        l.append(d)"
   ]
  },
  {
   "cell_type": "code",
   "execution_count": 4,
   "metadata": {},
   "outputs": [],
   "source": [
    "driver.quit()"
   ]
  },
  {
   "cell_type": "code",
   "execution_count": 14,
   "metadata": {},
   "outputs": [],
   "source": [
    "df=pd.DataFrame(l)\n",
    "writer = pd.ExcelWriter(\"scraped_data/ajax_1.xlsx\", engine='xlsxwriter')\n",
    "df.to_excel(writer, index=False)\n",
    "writer.close()"
   ]
  }
 ],
 "metadata": {
  "kernelspec": {
   "display_name": "Python 3",
   "language": "python",
   "name": "python3"
  },
  "language_info": {
   "codemirror_mode": {
    "name": "ipython",
    "version": 3
   },
   "file_extension": ".py",
   "mimetype": "text/x-python",
   "name": "python",
   "nbconvert_exporter": "python",
   "pygments_lexer": "ipython3",
   "version": "3.11.2"
  },
  "orig_nbformat": 4
 },
 "nbformat": 4,
 "nbformat_minor": 2
}
